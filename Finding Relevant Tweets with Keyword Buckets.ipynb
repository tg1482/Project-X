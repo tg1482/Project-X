{
 "cells": [
  {
   "cell_type": "code",
   "execution_count": 1,
   "metadata": {},
   "outputs": [],
   "source": [
    "% matplotlib inline\n",
    "\n",
    "from __future__ import division\n",
    "\n",
    "import numpy as np \n",
    "import pandas as pd \n",
    "import re"
   ]
  },
  {
   "cell_type": "code",
   "execution_count": 6,
   "metadata": {},
   "outputs": [],
   "source": [
    "def word_in_text(word, text):\n",
    "    word = word.lower()\n",
    "    text = text.lower()\n",
    "    match = re.search(word, text)\n",
    "    if match:\n",
    "        return True\n",
    "    return False\n",
    "\n",
    "def word_basket_in_text(word_list, text):\n",
    "    status = True\n",
    "    for word in word_list:\n",
    "        status = status and word_in_text(word, text)\n",
    "    return status\n",
    "\n",
    "def get_tweets(name):\n",
    "    tweet_data = pd.read_csv('Tweets//'+name+'_tweets.csv', encoding = 'utf-8')\n",
    "    return tweet_data.dropna()\n",
    "\n",
    "tweets = get_tweets('realDonaldTrump')"
   ]
  },
  {
   "cell_type": "code",
   "execution_count": 7,
   "metadata": {},
   "outputs": [],
   "source": [
    "# extracting URLS\n",
    "tweets['urls'] = tweets.text.apply(lambda x: re.findall('http\\S+', x))\n",
    "tweets['text_clean'] = tweets.text.apply(lambda x: re.sub(u'http\\S+', u'', x)) \n",
    "\n",
    "# extracting @... \n",
    "tweets['mentions'] = tweets.text.apply(lambda x: re.findall(u'@(\\w+)', x))\n",
    "tweets.text_clean = tweets.text_clean.apply(lambda x: re.sub(u'@(\\w+)', u'', x))\n",
    "\n",
    "# extracting hashtags\n",
    "tweets['hashtags'] = tweets.text.apply(lambda x: re.findall(u'#(\\w+)', x))\n",
    "tweets.text_clean = tweets.text_clean.apply(lambda x: re.sub(u'#', u'', x))\n",
    "\n",
    "# Binary for Re-Tweets\n",
    "tweets['retweet'] = tweets.text.apply(lambda x: 1 if len(re.findall(u'RT', x))>0 else 0)\n",
    "tweets.text_clean = tweets.text_clean.apply(lambda x: re.sub(u'RT', u'', x))"
   ]
  },
  {
   "cell_type": "code",
   "execution_count": 8,
   "metadata": {},
   "outputs": [],
   "source": [
    "Healthcare = [u'care','affordable care act', u'medicare', u'obamacare',  u'benefits', u'opioid', u'abortion', u'medicaid', u'single payer', u'medication', u'prescription', u'drugs', u'hospital', u'health', u'care']\n",
    "Terrorism = [u'al', u'terror', u'sanctions', u'drone', u'oil', u'gulf', u'intelligence', u'ISIS', u'military', u'nuclear']\n",
    "Economy = [u'china', u'tariff', u'mexico', u'fed', u'sec', u'interest', u'rate', u'immigration', u'debt', u'unemployment', u'growth', u'inflation', u'trade war', u'dollar', u'gdp', u'g20', u'recession', u'stock', u'market']\n",
    "lgbtq = [u'gay', u'lesbian', u'pride', u'community', u'lgbt', u'same-sex', u'marriage', u'orientation', u'parade', u'stonewall', u'riot', u'civil', u'homosexual', u'queer', u'conversion']"
   ]
  },
  {
   "cell_type": "code",
   "execution_count": 17,
   "metadata": {},
   "outputs": [
    {
     "name": "stdout",
     "output_type": "stream",
     "text": [
      "-------\n",
      "When our Country had no debt and built everything from Highways to the Military with CASH, we had a big system of Tariffs. Now we allow other countries to steal our wealth, treasure, and jobs - But no more! The USA is doing great, with unlimited upside into the future!\n",
      "-------\n",
      "With incredible grit, skill, and pride, the 7,000 workers here at Sempra Energy are helping lead the American Energy Revolution. They are not only making our nation WEALTHIER but they are making America SAFER by building a future of American Energy INDEPENDENCE! https://t.co/Hqn9wEIXo9\n",
      "-------\n",
      "RT @realDonaldTrump: Tariffs will bring in FAR MORE wealth to our Country than even a phenomenal deal of the traditional kind. Also, much e…\n",
      "-------\n",
      "Tariffs will bring in FAR MORE wealth to our Country than even a phenomenal deal of the traditional kind. Also, much easier &amp; quicker to do. Our Farmers will do better, faster, and starving nations can now be helped. Waivers on some products will be granted, or go to new source!\n"
     ]
    }
   ],
   "source": [
    "for tweet in tweets['text']:\n",
    "    if word_basket_in_text(['wealth'], tweet):\n",
    "        print('-------')\n",
    "        print(tweet)"
   ]
  },
  {
   "cell_type": "code",
   "execution_count": null,
   "metadata": {},
   "outputs": [],
   "source": []
  }
 ],
 "metadata": {
  "kernelspec": {
   "display_name": "Python 3",
   "language": "python",
   "name": "python3"
  },
  "language_info": {
   "codemirror_mode": {
    "name": "ipython",
    "version": 3
   },
   "file_extension": ".py",
   "mimetype": "text/x-python",
   "name": "python",
   "nbconvert_exporter": "python",
   "pygments_lexer": "ipython3",
   "version": "3.7.0"
  }
 },
 "nbformat": 4,
 "nbformat_minor": 2
}

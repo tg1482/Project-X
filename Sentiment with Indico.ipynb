{
 "cells": [
  {
   "cell_type": "code",
   "execution_count": 13,
   "metadata": {},
   "outputs": [],
   "source": [
    "from __future__ import division\n",
    "\n",
    "import numpy as np \n",
    "import pandas as pd \n",
    "import re\n",
    "\n",
    "import indicoio\n",
    "indicoio.config.api_key = '8d886b1e15846240c6191ecf008a824b'"
   ]
  },
  {
   "cell_type": "code",
   "execution_count": 67,
   "metadata": {},
   "outputs": [],
   "source": [
    "def word_in_text(word, text):\n",
    "    word = word.lower()\n",
    "    text = text.lower()\n",
    "    match = re.search(word, text)\n",
    "    if match:\n",
    "        return True\n",
    "    return False\n",
    "\n",
    "def word_basket_in_text(word_list, text):\n",
    "    status = True\n",
    "    for word in word_list:\n",
    "        status = status and word_in_text(word, text)\n",
    "    return status\n",
    "\n",
    "def get_tweets(name):\n",
    "    tweet_data = pd.read_csv('Tweets//'+name+'_tweets.csv', encoding = 'utf-8')\n",
    "    return tweet_data.dropna()\n",
    "\n",
    "tweets = get_tweets('ewarren')"
   ]
  },
  {
   "cell_type": "code",
   "execution_count": 68,
   "metadata": {},
   "outputs": [],
   "source": [
    "# extracting URLS\n",
    "tweets['urls'] = tweets.text.apply(lambda x: re.findall('http\\S+', x))\n",
    "tweets['text_clean'] = tweets.text.apply(lambda x: re.sub(u'http\\S+', u'', x)) \n",
    "\n",
    "# extracting @... \n",
    "tweets['mentions'] = tweets.text.apply(lambda x: re.findall(u'@(\\w+)', x))\n",
    "tweets.text_clean = tweets.text_clean.apply(lambda x: re.sub(u'@(\\w+)', u'', x))\n",
    "\n",
    "# extracting hashtags\n",
    "tweets['hashtags'] = tweets.text.apply(lambda x: re.findall(u'#(\\w+)', x))\n",
    "tweets.text_clean = tweets.text_clean.apply(lambda x: re.sub(u'#', u'', x))\n",
    "\n",
    "# Binary for Re-Tweets\n",
    "tweets['retweet'] = tweets.text.apply(lambda x: 1 if len(re.findall(u'RT', x))>0 else 0)\n",
    "tweets.text_clean = tweets.text_clean.apply(lambda x: re.sub(u'RT', u'', x))"
   ]
  },
  {
   "cell_type": "code",
   "execution_count": 78,
   "metadata": {},
   "outputs": [
    {
     "name": "stdout",
     "output_type": "stream",
     "text": [
      "-------\n",
      "The racial wealth gap tilts the playing field against entrepreneurs of color, holding back our economy. The government helped create that wealth gap, and the government has an obligation to address it. I have a new plan to tackle it head on.\n",
      "-------\n",
      "My #UniversalChildCare plan quadruples the federal investment in child care, and offers high-quality options for every family. We’ll pay for it with my #UltraMillionaireTax on the wealthiest 0.1% of Americans. It’s a win for our kids and our economy. https://t.co/c8X9TfTeXK\n",
      "-------\n",
      "The enormous student debt burden weighing down our economy isn’t the result of laziness or irresponsibility. It’s the result of a government that has consistently put the interests of the wealthy and well-connected over the interests of working families. I'm ready to fight back. https://t.co/kYZPbLsGpC\n",
      "-------\n",
      "The richest tippy-top 0.1% of Americans have nearly as much wealth as the bottom 90%. That’s bad for our economy &amp; our democracy. I talked with @chrislhayes about how my #UltraMillionaireTax would ask the 0.1% to pay their fair share and rebuild the middle class. https://t.co/fKt4W4cShX\n",
      "-------\n",
      "Our economy is rigged against working people – &amp; especially rigged against people of color. The wealthy &amp; well-connected have enormous power in Washington. It’s time to make real, structural change to our economy, our govt &amp; our politics to fix it.\n",
      "-------\n",
      "The ultra-rich have rigged our economy &amp; rigged our tax rules. We need structural change. That’s why I’m proposing something brand-new: An annual wealth tax on the tippy-top 0.1%. We’d get $3 trillion in new revenue to invest in rebuilding the middle-class. Let’s make it happen. https://t.co/B0ImiSTxez\n",
      "-------\n",
      "The rich &amp; powerful run Washington. Here’s one benefit they wrote for themselves: After making a killing from the economy they’ve rigged, they don't pay taxes on that accumulated wealth. It’s a system that’s rigged for the top if I ever saw one.\n"
     ]
    }
   ],
   "source": [
    "for tweet in tweets['text']:\n",
    "    if word_basket_in_text(['wealth', 'economy'], tweet):\n",
    "        print('-------')\n",
    "        print(tweet)"
   ]
  },
  {
   "cell_type": "code",
   "execution_count": 77,
   "metadata": {},
   "outputs": [
    {
     "name": "stdout",
     "output_type": "stream",
     "text": [
      "-------\n",
      "RT @TeamWarren: .@ewarren has a plan to protect our right to safe, legal abortion—even if #RoeVWade is overturned. #DemDebate https://t.co/…\n",
      "0.8853944\n",
      "{'fear': 0.5896764397621155, 'sadness': 0.2894979417324066, 'anger': 0.08189137279987335, 'joy': 0.03651745244860649, 'surprise': 0.00241675297729671}\n",
      "{'legal': 0.5418347375044212, 'ewarren': 0.36812134179424627, 'teamwarren': 0.3681213417942462, 'overturned': 0.3681213417942454, 'demdebate': 0.3681213417942454}\n",
      "-------\n",
      "Every woman should have access to the full range of reproductive services, including safe, legal abortion. Most people in this country support #RoeVWade, and we need to make it the law. Here’s my plan to protect reproductive health. #DemDebate https://t.co/iBzvjDBCL4\n",
      "0.91052425\n",
      "{'fear': 0.4185457229614258, 'sadness': 0.311088502407074, 'anger': 0.2165868729352951, 'joy': 0.0493437722325325, 'surprise': 0.004435082897543907}\n",
      "{'reproductive': 0.4438919504734891, 'support': 0.4032945379115175, 'legal': 0.31717910759090967, 'health': 0.31191844754589987, 'safe': 0.30299031078163435}\n",
      "-------\n",
      "Women’s rights are human rights. We need to:\n",
      "\n",
      "✔ Protect #RoeVWade.\n",
      "✔ End the #HydeAmendment.\n",
      "✔ Defend #TitleX family planning funding.\n",
      "✔ Ensure that #MedicareForAll includes contraception and abortion coverage.\n",
      "\n",
      "https://t.co/iBzvjDBCL4\n",
      "\n",
      "#DemDebate\n",
      "0.7763258\n",
      "{'fear': 0.3801977038383484, 'sadness': 0.34072771668434143, 'anger': 0.1729908287525177, 'joy': 0.09473636001348495, 'surprise': 0.011347371153533459}\n",
      "{'coverage': 0.332456211976761, 'includes': 0.33245621197676095, 'roevwade': 0.3324562119767609, 'funding': 0.26790730175900973, 'defend': 0.26790730175900895}\n",
      "-------\n",
      "Thank you @PPact for having me at today's #WeDecide Forum. It's time to go on the offense to protect #RoeVWade—and, in a Warren administration, we will defend and expand access to reproductive health care for everyone. https://t.co/DB1MoZ97Rm\n",
      "0.95799184\n",
      "{'sadness': 0.3655695915222168, 'fear': 0.3450627326965332, 'anger': 0.20096009969711304, 'joy': 0.08236769586801529, 'surprise': 0.0060399556532502174}\n",
      "{'health': 0.43602926819583354, 'forum': 0.2960482320190039, 'wedecide': 0.2960482320190037, 'roevwade': 0.2960482320190035, 'protect': 0.29604823201900343}\n",
      "-------\n",
      "This is a win—but safe, legal abortion access for women in Missouri and across the country is still under attack. Extreme lawmakers are hell-bent on overturning #RoeVWade, and it’s more important than ever that we make our voices heard and #StopTheBans. https://t.co/2TskA5ZLK4\n",
      "0.67088795\n",
      "{'fear': 0.4185216426849365, 'sadness': 0.350237101316452, 'anger': 0.1975736916065216, 'joy': 0.026757409796118736, 'surprise': 0.006910160183906555}\n",
      "{'extreme': 0.39595625943374363, 'legal': 0.3521006440772649, 'abortion': 0.3521006440772646, 'roevwade': 0.2693322658921596, 'overturning': 0.2693322658921595}\n",
      "-------\n",
      "Last week in Nashua, NH, we talked about how extremist Republicans think that this is their chance to overturn #RoeVWade. Not on our watch. We’ll keep fighting to #StopTheBans today and every day after it. https://t.co/HuBQogVl1O\n",
      "0.2109361\n",
      "{'sadness': 0.43769869208335876, 'fear': 0.34307458996772766, 'anger': 0.14669767022132874, 'joy': 0.0622912161052227, 'surprise': 0.010237797163426876}\n",
      "{'republicans': 0.5431750847358181, 'overturn': 0.3677287300088287, 'roevwade': 0.36772873000882866, 'stopthebans': 0.3677287300088269, 'today': 0.3677287300088269}\n",
      "-------\n",
      "Let’s be clear: #RoeVWade established a woman’s constitutional right to safe, legal abortion &amp; has been the law of the land for over 46 years. An overwhelming majority of Americans don’t want to return to a world before Roe. But extremist Republicans are fighting to do just that.\n",
      "0.18147185\n",
      "{'sadness': 0.3674441874027252, 'fear': 0.2650059163570404, 'anger': 0.19589608907699585, 'surprise': 0.10866424441337585, 'joy': 0.06298960745334625}\n",
      "{'roevwade': 0.3968345924787431, 'abortion': 0.35283616575923954, 'legal': 0.3528361657592394, 'overwhelming': 0.26895342760931185, 'majority': 0.26895342760931185}\n",
      "-------\n",
      "Extremist lawmakers like Henry McMaster know that #RoeVWade is the law of the land, but they don’t care—they want to outlaw abortion. That’s why Congress must pass new federal laws to protect access to safe, legal abortion. https://t.co/kckzYVGR0p\n",
      "0.4220725\n",
      "{'fear': 0.3753761053085327, 'sadness': 0.32584327459335327, 'anger': 0.2817104160785675, 'joy': 0.014396049082279205, 'surprise': 0.002674215706065297}\n",
      "{'federal': 0.31481159079553944, 'new': 0.31481159079553894, 'legal': 0.31481159079553833, 'abortion': 0.31481159079553805, 'mcmaster': 0.28872181452879636}\n",
      "-------\n",
      "Republicans are coming after #RoeVWade. You bet we’re going to fight tooth and nail to protect access to safe, legal abortion. https://t.co/itfcXOLdaO\n",
      "0.79213035\n",
      "{'fear': 0.5246016979217529, 'sadness': 0.3022502064704895, 'anger': 0.13454148173332214, 'joy': 0.034499458968639374, 'surprise': 0.004107179120182991}\n",
      "{'legal': 0.5427628188348302, 'fight': 0.36782485654840513, 'tooth': 0.36782485654840513, 'protect': 0.36782485654840313, 'access': 0.36782485654840313}\n",
      "-------\n",
      "We need to fight like hell to protect #RoeVWade and protect women’s rights to control our own bodies. Join @NARAL, @PPact, @MoveOn, and other activists for a day of action in all 50 states tomorrow, Tuesday, May 21. Find an event near you: https://t.co/QOzZZHnvI5 #StopTheBans\n",
      "0.896083\n",
      "{'fear': 0.42644572257995605, 'sadness': 0.34390443563461304, 'joy': 0.12746798992156982, 'anger': 0.0926230177283287, 'surprise': 0.009558807127177715}\n",
      "{'protect': 0.35165925804712656, 'like': 0.3516592580471259, 'tomorrow': 0.3516592580471255, 'join': 0.2954638088522607, 'ppact': 0.29546380885226003}\n"
     ]
    }
   ],
   "source": [
    "i = 0\n",
    "for tweet in tweets['text']:\n",
    "    if word_basket_in_text(['RoeVWade'], tweet):\n",
    "        if i <10:\n",
    "            print('-------')\n",
    "            print(tweet)\n",
    "            print(indicoio.sentiment_hq(tweet))\n",
    "            print(indicoio.emotion(tweet))\n",
    "            print(indicoio.keywords(tweet, version=4))\n",
    "        i+=1"
   ]
  },
  {
   "cell_type": "code",
   "execution_count": 79,
   "metadata": {},
   "outputs": [
    {
     "name": "stdout",
     "output_type": "stream",
     "text": [
      "-------\n",
      "The racial wealth gap tilts the playing field against entrepreneurs of color, holding back our economy. The government helped create that wealth gap, and the government has an obligation to address it. I have a new plan to tackle it head on.\n",
      "0.608526\n",
      "{'joy': 0.23323139548301697, 'sadness': 0.2308093011379242, 'anger': 0.22423967719078064, 'surprise': 0.15848657488822937, 'fear': 0.15323306620121002}\n",
      "{'helped': 0.39595625943374313, 'wealth': 0.35210064407726444, 'gap': 0.3521006440772642, 'field': 0.2693322658921595, 'playing': 0.2693322658921594}\n",
      "-------\n",
      "My #UniversalChildCare plan quadruples the federal investment in child care, and offers high-quality options for every family. We’ll pay for it with my #UltraMillionaireTax on the wealthiest 0.1% of Americans. It’s a win for our kids and our economy. https://t.co/c8X9TfTeXK\n",
      "0.9576618\n",
      "{'sadness': 0.4820941686630249, 'fear': 0.23357799649238586, 'anger': 0.16755728423595428, 'joy': 0.09023734927177429, 'surprise': 0.026533212512731552}\n",
      "{'plan': 0.4290926278830277, 'high': 0.38152989354747774, 'quality': 0.3815298935474776, 'federal': 0.29109855593553363, 'investment': 0.29109855593553363}\n",
      "-------\n",
      "The enormous student debt burden weighing down our economy isn’t the result of laziness or irresponsibility. It’s the result of a government that has consistently put the interests of the wealthy and well-connected over the interests of working families. I'm ready to fight back. https://t.co/kYZPbLsGpC\n",
      "0.84163547\n",
      "{'fear': 0.4372834861278534, 'sadness': 0.3614794909954071, 'anger': 0.15638121962547302, 'joy': 0.031592223793268204, 'surprise': 0.013263559900224209}\n",
      "{'student': 0.40253047418555127, 'burden': 0.40253047418555066, 'debt': 0.396028303667478, 'economy': 0.3248628810574217, 'isn': 0.3248628810574216}\n",
      "-------\n",
      "The richest tippy-top 0.1% of Americans have nearly as much wealth as the bottom 90%. That’s bad for our economy &amp; our democracy. I talked with @chrislhayes about how my #UltraMillionaireTax would ask the 0.1% to pay their fair share and rebuild the middle class. https://t.co/fKt4W4cShX\n",
      "0.33629507\n",
      "{'sadness': 0.5830753445625305, 'fear': 0.1762075126171112, 'anger': 0.16670584678649902, 'joy': 0.04158683493733406, 'surprise': 0.03242446109652519}\n",
      "{'richest': 0.3521639807807478, 'tippy': 0.3521639807807478, 'economy': 0.3521639807807477, 'amp': 0.3521639807807475, 'fair': 0.3521639807807475}\n",
      "-------\n",
      "Our economy is rigged against working people – &amp; especially rigged against people of color. The wealthy &amp; well-connected have enormous power in Washington. It’s time to make real, structural change to our economy, our govt &amp; our politics to fix it.\n",
      "0.7148486\n",
      "{'anger': 0.5341647267341614, 'sadness': 0.20595461130142212, 'joy': 0.1337704062461853, 'fear': 0.07992784678936005, 'surprise': 0.046182453632354736}\n",
      "{'amp': 0.5823935198941117, 'structural': 0.3858545734199921, 'especially': 0.30443806908551124, 'people': 0.30443806908551013, 'enormous': 0.2621171872616244}\n",
      "-------\n",
      "The ultra-rich have rigged our economy &amp; rigged our tax rules. We need structural change. That’s why I’m proposing something brand-new: An annual wealth tax on the tippy-top 0.1%. We’d get $3 trillion in new revenue to invest in rebuilding the middle-class. Let’s make it happen. https://t.co/B0ImiSTxez\n",
      "0.5473141\n",
      "{'fear': 0.4324583411216736, 'sadness': 0.3356151580810547, 'anger': 0.15295523405075073, 'joy': 0.06159229204058647, 'surprise': 0.01737901382148266}\n",
      "{'amp': 0.3300812847812156, 'new': 0.3300812847812142, 'structural': 0.3300812847812132, 'class': 0.33008128478121274, 'wealth': 0.2935409044963644}\n",
      "-------\n",
      "The rich &amp; powerful run Washington. Here’s one benefit they wrote for themselves: After making a killing from the economy they’ve rigged, they don't pay taxes on that accumulated wealth. It’s a system that’s rigged for the top if I ever saw one.\n",
      "0.20153207\n",
      "{'sadness': 0.41422098875045776, 'anger': 0.40911155939102173, 'surprise': 0.06752228736877441, 'fear': 0.056615762412548065, 'joy': 0.05252941697835922}\n",
      "{'amp': 0.402268012902507, 'run': 0.4022680129025069, 'powerful': 0.39482823096184383, 'accumulated': 0.3251078794739552, 'wealth': 0.32510787947395514}\n"
     ]
    }
   ],
   "source": [
    "i = 0\n",
    "for tweet in tweets['text']:\n",
    "    if word_basket_in_text(['wealth', 'economy'], tweet):\n",
    "        if i <10:\n",
    "            print('-------')\n",
    "            print(tweet)\n",
    "            print(indicoio.sentiment_hq(tweet))\n",
    "            print(indicoio.emotion(tweet))\n",
    "            print(indicoio.keywords(tweet, version=4))\n",
    "        i+=1"
   ]
  },
  {
   "cell_type": "code",
   "execution_count": null,
   "metadata": {},
   "outputs": [],
   "source": []
  }
 ],
 "metadata": {
  "kernelspec": {
   "display_name": "Python 3",
   "language": "python",
   "name": "python3"
  },
  "language_info": {
   "codemirror_mode": {
    "name": "ipython",
    "version": 3
   },
   "file_extension": ".py",
   "mimetype": "text/x-python",
   "name": "python",
   "nbconvert_exporter": "python",
   "pygments_lexer": "ipython3",
   "version": "3.7.0"
  }
 },
 "nbformat": 4,
 "nbformat_minor": 2
}

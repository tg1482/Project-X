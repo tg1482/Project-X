{
 "cells": [
  {
   "cell_type": "code",
   "execution_count": 107,
   "metadata": {},
   "outputs": [],
   "source": [
    "% matplotlib inline\n",
    "\n",
    "from __future__ import division\n",
    "\n",
    "import numpy as np \n",
    "import pandas as pd \n",
    "import re\n",
    "from Data_Utilities import get_tweets\n",
    "from collections import Counter\n",
    "from nltk.tokenize import TweetTokenizer"
   ]
  },
  {
   "cell_type": "code",
   "execution_count": 236,
   "metadata": {},
   "outputs": [],
   "source": [
    "def word_in_text(word, text):\n",
    "    word = word.lower()\n",
    "    text = text.lower()\n",
    "    match = re.search(word, text)\n",
    "    if match:\n",
    "        return True\n",
    "    return False\n",
    "\n",
    "def word_basket_in_text(word_list, text):\n",
    "    status = True\n",
    "    for word in word_list:\n",
    "        if type(word)==list:\n",
    "            list_status = False\n",
    "            for list_word in word:\n",
    "                list_status = list_status or word_in_text(list_word, text)\n",
    "            status = status and list_status\n",
    "        else: status = status and word_in_text(word, text)\n",
    "    return status\n",
    "\n",
    "tweets = get_tweets('SenTedCruz')"
   ]
  },
  {
   "cell_type": "code",
   "execution_count": 237,
   "metadata": {},
   "outputs": [],
   "source": [
    "# Changing &amp; to 'and'\n",
    "tweets.text = tweets.text.apply(lambda x: re.sub(u'\\&amp\\;', u'and', x))\n",
    "\n",
    "# extracting URLS\n",
    "tweets['urls'] = tweets.text.apply(lambda x: re.findall('http\\S+', x))\n",
    "tweets['text_clean'] = tweets.text.apply(lambda x: re.sub(u'http\\S+', u'', x)) \n",
    "\n",
    "# extracting @... \n",
    "tweets['mentions'] = tweets.text.apply(lambda x: re.findall(u'@(\\w+)', x))\n",
    "\n",
    "# extracting hashtags\n",
    "tweets['hashtags'] = tweets.text.apply(lambda x: re.findall(u'#(\\w+)', x))\n",
    "tweets.text_clean = tweets.text_clean.apply(lambda x: re.sub(u'#', u'', x))\n",
    "\n",
    "# Binary for Re-Tweets\n",
    "tweets['retweet'] = tweets.text.apply(lambda x: 1 if len(re.findall(u'RT', x))>0 else 0)\n",
    "tweets.text_clean = tweets.text_clean.apply(lambda x: re.sub(u'RT', u'', x))"
   ]
  },
  {
   "cell_type": "code",
   "execution_count": 238,
   "metadata": {},
   "outputs": [],
   "source": [
    "Healthcare = [u'care','affordable care act', u'medicare', u'obamacare',  u'benefits', u'opioid', u'abortion', u'medicaid', u'single payer', u'medication', u'prescription', u'drugs', u'hospital', u'health', u'care']\n",
    "Terrorism = [u'al', u'terror', u'sanctions', u'drone', u'oil', u'gulf', u'intelligence', u'ISIS', u'military', u'nuclear']\n",
    "Economy = [u'china', u'tariff', u'mexico', u'fed', u'sec', u'interest', u'rate', u'immigration', u'debt', u'unemployment', u'growth', u'inflation', u'trade war', u'dollar', u'gdp', u'g20', u'recession', u'stock', u'market']\n",
    "lgbtq = [u'gay', u'lesbian', u'pride', u'community', u'lgbt', u'same-sex', u'marriage', u'orientation', u'parade', u'stonewall', u'riot', u'civil', u'homosexual', u'queer', u'conversion']\n",
    "\n",
    "china_tariffs = ['china', 'tariff']\n",
    "safe_abortion = ['abortion', ['safe', 'legal']]\n",
    "abortion_ban = ['abortion', ['ban', 'restrictions', 'extreme']]\n",
    "affordable_care = ['health', ['affordable', 'obamacare', 'medicare', 'care']]\n",
    "medicare = ['MedicareForAll', ['Medicare']] \n",
    "greennewdeal = ['greennewdeal']\n",
    "lgbtq_marriage_equality_act = [['marriage', 'relationship', 'relationships', 'couple', 'couples'], ['gay', 'lesbian', 'pride', 'orientation']]\n"
   ]
  },
  {
   "cell_type": "code",
   "execution_count": 249,
   "metadata": {},
   "outputs": [],
   "source": [
    "# Final List\n",
    "\n",
    "# Healthcare\n",
    "affordable_care = ['health', ['affordable', 'obamacare', 'medicare', 'care']]\n",
    "medicare = ['medicare'] \n",
    "safe_abortion = ['abortion', ['safe', 'legal']]\n",
    "abortion_ban = ['abortion', ['ban', 'restrictions', 'extreme']]\n",
    "\n",
    "# Education\n",
    "education_for_all = ['education', ['afford', 'free']]\n",
    "student_loans = ['student', ['cancel', 'loans', 'debt']]\n",
    "\n",
    "# Immigration\n",
    "immigration = ['immigration', ['policy', 'policies', 'mexico', 'illegal', 'undocumented', 'border']]\n",
    "asylum = ['border', ['detention', 'families', 'family', 'asylum']]"
   ]
  },
  {
   "cell_type": "code",
   "execution_count": 250,
   "metadata": {
    "scrolled": false
   },
   "outputs": [
    {
     "name": "stdout",
     "output_type": "stream",
     "text": [
      "-------\n",
      "As a former U.S. Marine, he was drawn to the Border Patrol out of a sense of duty and patriotism. Yesterday I was proud to join the Vega family at the dedication ceremony to rename the ’s Sarita, TX checkpoint in honor of slain BP Agent Javier Vega, Jr. \n",
      "-------\n",
      "Sad to hear of the death of BP Agent Donna Doss. Please join me in praying for her family in the wake of their loss. Let us always remember and remain grateful for the Border Patrol Agents and their families who make courageous sacrifices to protect Texas and our country. \n",
      "-------\n",
      "Yesterday's trip was very valuable. I met w  and families who have lost loved ones to illegal immigration  real human tragedies. When you see the Democrats force a gov shutdown bc they’re opposed to securing the border, that’s out of touch and not where the American people are. \n",
      "-------\n",
      "Texas Senators file legislation to end separation of immigrant families at border \n",
      "-------\n",
      ". and I had a great roundtable discussion at the Weslaco Border Patrol Station with representatives from federal agencies involved in the process of receiving, detaining and adjudicating immigrant families, as well as local elected officials and community leaders. \n",
      "-------\n",
      "RT : We can enforce the law and keep families together at the Southern border with the Protect Kids and Parents Act introduced…\n",
      "-------\n",
      "It also doubles the number of immigration judges and expedites the process by which we handle asylum claims by families who enter our country. I hope that my Democratic colleagues can join with us to stop the crisis that is occurring at the border.   &gt; \n",
      "-------\n",
      "RT : \"This has to stop,\" Texas Sen. Ted Cruz said when asked about the separation of migrant families at the border in his state.…\n",
      "-------\n",
      "Let justice be done, and let us never forget the commitment and sacrifice of Border Patrol Agent Javier Vega Jr. to protect our borders. God Bless the Vega family.   &gt; \n"
     ]
    }
   ],
   "source": [
    "all_tweets = ''\n",
    "for tweet in tweets['text']:\n",
    "    if word_basket_in_text(asylum, tweet):\n",
    "        print('-------')\n",
    "        tweet = re.sub(u'\\&amp\\;', u'and', tweet)\n",
    "        tweet = re.sub(u'http\\S+', u'', tweet)\n",
    "        tweet = re.sub(u'@(\\w+)', u'', tweet)   \n",
    "        tweet = re.sub(u'-', u' ', tweet) \n",
    "        print(tweet)\n",
    "        all_tweets = all_tweets + ' ; ' + tweet"
   ]
  },
  {
   "cell_type": "code",
   "execution_count": 246,
   "metadata": {},
   "outputs": [
    {
     "name": "stdout",
     "output_type": "stream",
     "text": [
      "Counter({'the': 45, 'and': 35, '.': 34, 'our': 26, ',': 25, 'border': 25, 'to': 23, 'of': 22, ';': 21, 'immigration': 20, 'a': 15, 'I': 12, 'at': 8, 'illegal': 8, 'in': 8, 'have': 7, 'that': 7, 'wall': 7, '’': 6, 'as': 6, 'The': 6, ':': 6, 'southern': 6, 'crisis': 6, 'for': 6, 'country': 6, 'an': 5, 'want': 5, 'see': 5, 'is': 5, 'broken': 5, 'system': 5, 'secure': 5, 'people': 5, 'Texans': 4, 'agents': 4, 'human': 4, 'children': 4, 'today': 4, 'by': 4, 'humanitarian': 4, 'we': 4, 'We': 4, 'called': 4, 'building': 4, 'necessary': 4, 'step': 4, 'stopping': 4, 'flow': 4, 'into': 4, 'defending': 4, 'overwhelming': 3, 'majority': 3, 'they': 3, 'secured': 3, 'Border': 3, 'Patrol': 3, 'legal': 3, '#SecureTheBorder': 3, 'has': 3, 'security': 3, 'must': 3, 'need': 3, 'put': 3, 'catch': 3, 'release': 3, 'which': 3, 'on': 3, '>': 3, 'long': 3, 's': 3, 'who': 3, 'American': 3, 'are': 3, 'Texas': 2, 'supported': 2, 'championed': 2, 'traffickers': 2, 'drug': 2, 'produced': 2, 'RT': 2, 'A': 2, 'exists': 2, 'because': 2, 'end': 2, 'harm': 2, '…': 2, 'practices': 2, 'like': 2, \"'\": 2, 'questioned': 2, 'build': 2, 'occurring': 2, 'securing': 2, 'families': 2, 'tragedies': 2, 'not': 2, 'smuggling': 2, 'being': 2, 'abused': 2, 'us': 2, 'face': 2, 'illegally': 2, 'ICE': 2, 'enter': 2, 'also': 2, 'policy': 2, 'judges': 2, 'asylum': 2, 'cases': 2, 'As': 1, 've': 1, 'traveled': 1, 'across': 1, 'expressed': 1, 'There': 1, 'no': 1, 'denying': 1, 'result': 1, 'Congressional': 1, 'inaction': 1, 'criminal': 1, 'cartels': 1, 'continue': 1, 'these': 1, 'opportunities': 1, 'exploit': 1, 'unsecured': 1, 'report': 1, 'released': 1, 'confirms': 1, 'concerns': 1, 'consistently': 1, 'raised': 1, 'Over': 1, 'half': 1, 'apprehensions': 1, 'CBP': 1, 'made': 1, 'were': 1, 'young': 1, 'unaccompanied': 1, 'Of': 1, 'course': 1, 'should': 1, 'Our': 1, 'years': 1, 'unwillingness': 1, 'harmful': 1, 'cause': 1, 'more': 1, 'than': 1, 'good': 1, 'ensure': 1, 'safety': 1, 'communities': 1, 'ICYMI': 1, 'United': 1, 'States': 1, 'protect': 1, 'its': 1, 'prevent': 1, 'trafficking': 1, 'atrocities': 1, 'from': 1, 'through': 1, 'Indeed': 1, 'introduced': 1, '#ELCHAPOAct': 1, 'WALL': 1, 'Act': 1, '–': 1, '2': 1, 'bills': 1, 'would': 1, 'offset': 1, 'cost': 1, 'completing': 1, 'repeatedly': 1, 'reigns': 1, 'conversation': 1, 'points': 1, 'towards': 1, '“': 1, 'What': 1, 'solution': 1, '#immigration': 1, 'p': 1, \"Yesterday's\": 1, 'trip': 1, 'was': 1, 'very': 1, 'valuable': 1, 'met': 1, 'w': 1, 'lost': 1, 'loved': 1, 'ones': 1, 'real': 1, 'When': 1, 'you': 1, 'Democrats': 1, 'force': 1, 'gov': 1, 'shutdown': 1, 'bc': 1, 're': 1, 'opposed': 1, 'out': 1, 'touch': 1, 'where': 1, 'Illegal': 1, 'produces': 1, 'everyday': 1, 'women': 1, 'sexually': 1, 'opioids': 1, 'destroying': 1, 'thousands': 1, 'lives': 1, '[': 1, '...': 1, ']': 1, 'This': 1, 'fight': 1, '—': 1, 'gave': 1, 'clear': 1, 'mandate': 1, 'Americans': 1, 'Yesterday': 1, 'federal': 1, 'officials': 1, 'rise': 1, 'reported': 1, 'US': 1, 'dangers': 1, 'trying': 1, 'cross': 1, 'consequences': 1, 'hamper': 1, 'enforcement': 1, 'Calls': 1, 'abolish': 1, 'only': 1, 'disregard': 1, 'laws': 1, 'give': 1, 'implicit': 1, 'license': 1, 'those': 1, 'smear': 1, 'heroic': 1, 'sacrifices': 1, 'risk': 1, 'especially': 1, 'states': 1, '#Texas': 1, 'Court': 1, 'rightly': 1, 'upheld': 1, 'President': 1, 'broad': 1, 'constitutional': 1, 'statutory': 1, 'authority': 1, 'over': 1, 'national': 1, 'overruling': 1, 'baseless': 1, 'decisions': 1, 'issued': 1, 'activist': 1, 'lower': 1, 'court': 1, 'Ted': 1, 'Cruz': 1, 'John': 1, 'Cornyn': 1, 'visit': 1, 'facility': 1, 'along': 1, 'via': 1, 'It': 1, 'doubles': 1, 'number': 1, 'expedites': 1, 'process': 1, 'handle': 1, 'claims': 1, 'hope': 1, 'my': 1, 'Democratic': 1, 'colleagues': 1, 'can': 1, 'join': 1, 'with': 1, 'stop': 1, 'answer': 1, \"isn't\": 1, 'what': 1, 'congressional': 1, 'Dems': 1, 'proposing': 1, 'releasing': 1, 'aliens': 1, 'returning': 1, 'failed': 1, '‘': 1, 'Rather': 1, 'fix': 1, 'backlog': 1, 'remove': 1, 'barriers': 1, 'swift': 1, 'processing': 1, 'resolve': 1, 'expedited': 1, 'basis': 1, 'Meeting': 1, 'hearing': 1, 'firsthand': 1, 'challenges': 1, 'always': 1, 'honor': 1, 'am': 1, 'grateful': 1, 'conversations': 1, 'had': 1})\n"
     ]
    }
   ],
   "source": [
    "tknzr = TweetTokenizer()\n",
    "counts = Counter(tknzr.tokenize(all_tweets))\n",
    "print(counts)"
   ]
  },
  {
   "cell_type": "code",
   "execution_count": null,
   "metadata": {},
   "outputs": [],
   "source": []
  }
 ],
 "metadata": {
  "kernelspec": {
   "display_name": "Python 3",
   "language": "python",
   "name": "python3"
  },
  "language_info": {
   "codemirror_mode": {
    "name": "ipython",
    "version": 3
   },
   "file_extension": ".py",
   "mimetype": "text/x-python",
   "name": "python",
   "nbconvert_exporter": "python",
   "pygments_lexer": "ipython3",
   "version": "3.7.0"
  }
 },
 "nbformat": 4,
 "nbformat_minor": 2
}

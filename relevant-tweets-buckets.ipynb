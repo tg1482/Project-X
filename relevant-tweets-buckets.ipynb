{
 "cells": [
  {
   "cell_type": "code",
   "execution_count": 44,
   "metadata": {},
   "outputs": [],
   "source": [
    "% matplotlib inline\n",
    "\n",
    "from __future__ import division\n",
    "\n",
    "import numpy as np \n",
    "import pandas as pd \n",
    "import re\n",
    "from Data_Utilities import get_tweets\n",
    "from collections import Counter"
   ]
  },
  {
   "cell_type": "code",
   "execution_count": 87,
   "metadata": {},
   "outputs": [],
   "source": [
    "def word_in_text(word, text):\n",
    "    word = word.lower()\n",
    "    text = text.lower()\n",
    "    match = re.search(word, text)\n",
    "    if match:\n",
    "        return True\n",
    "    return False\n",
    "\n",
    "def word_basket_in_text(word_list, text):\n",
    "    status = True\n",
    "    for word in word_list:\n",
    "        if type(word)==list:\n",
    "            list_status = False\n",
    "            for list_word in word:\n",
    "                list_status = list_status or word_in_text(list_word, text)\n",
    "            status = status and list_status\n",
    "        else: status = status and word_in_text(word, text)\n",
    "    return status\n",
    "\n",
    "tweets = get_tweets('ewarren')"
   ]
  },
  {
   "cell_type": "code",
   "execution_count": 88,
   "metadata": {},
   "outputs": [],
   "source": [
    "# Changing &amp; to 'and'\n",
    "tweets.text = tweets.text.apply(lambda x: re.sub(u'\\&amp\\;', u'and', x))\n",
    "\n",
    "# extracting URLS\n",
    "tweets['urls'] = tweets.text.apply(lambda x: re.findall('http\\S+', x))\n",
    "tweets['text_clean'] = tweets.text.apply(lambda x: re.sub(u'http\\S+', u'', x)) \n",
    "\n",
    "# extracting @... \n",
    "tweets['mentions'] = tweets.text.apply(lambda x: re.findall(u'@(\\w+)', x))\n",
    "\n",
    "# extracting hashtags\n",
    "tweets['hashtags'] = tweets.text.apply(lambda x: re.findall(u'#(\\w+)', x))\n",
    "tweets.text_clean = tweets.text_clean.apply(lambda x: re.sub(u'#', u'', x))\n",
    "\n",
    "# Binary for Re-Tweets\n",
    "tweets['retweet'] = tweets.text.apply(lambda x: 1 if len(re.findall(u'RT', x))>0 else 0)\n",
    "tweets.text_clean = tweets.text_clean.apply(lambda x: re.sub(u'RT', u'', x))"
   ]
  },
  {
   "cell_type": "code",
   "execution_count": 93,
   "metadata": {},
   "outputs": [],
   "source": [
    "Healthcare = [u'care','affordable care act', u'medicare', u'obamacare',  u'benefits', u'opioid', u'abortion', u'medicaid', u'single payer', u'medication', u'prescription', u'drugs', u'hospital', u'health', u'care']\n",
    "Terrorism = [u'al', u'terror', u'sanctions', u'drone', u'oil', u'gulf', u'intelligence', u'ISIS', u'military', u'nuclear']\n",
    "Economy = [u'china', u'tariff', u'mexico', u'fed', u'sec', u'interest', u'rate', u'immigration', u'debt', u'unemployment', u'growth', u'inflation', u'trade war', u'dollar', u'gdp', u'g20', u'recession', u'stock', u'market']\n",
    "lgbtq = [u'gay', u'lesbian', u'pride', u'community', u'lgbt', u'same-sex', u'marriage', u'orientation', u'parade', u'stonewall', u'riot', u'civil', u'homosexual', u'queer', u'conversion']\n",
    "\n",
    "china_tariffs = ['china', 'tariff']\n",
    "safe_abortion = ['abortion', ['safe', 'legal']]\n",
    "abortion_ban = ['abortion', ['ban', 'restrictions', 'extreme']]\n",
    "affordable_care = ['health', ['affordable', 'access', 'accessible']]\n",
    "medicare = ['MedicareForAll', ['Medicare']] \n",
    "greennewdeal = ['greennewdeal']\n",
    "lgbtq_marriage_equality_act = [['marriage', 'relationship', 'relationships', 'couple', 'couples'], ['gay', 'lesbian', 'pride', 'orientation']]\n"
   ]
  },
  {
   "cell_type": "code",
   "execution_count": 94,
   "metadata": {
    "scrolled": true
   },
   "outputs": [
    {
     "name": "stdout",
     "output_type": "stream",
     "text": [
      "-------\n",
      "It wasn’t until marriage equality became law that gay and lesbian couples could jointly file tax returns—so they paid more in taxes. Our government owes them more than $50M for the years our discriminatory tax code left them out. We must right these wrongs. https://t.co/OZQcfVilSs\n",
      "-------\n",
      "I’m proud that Massachusetts was the first state to make marriage equality the law of the land—and I’m deeply grateful every time I get to march in the @bostonpride parade. Though I’m not there in person this year, I’m fighting alongside you today and every day! #WickedProud https://t.co/EAoGJpuo9O\n",
      "-------\n",
      "We need to #SaveSCOTUS to save marriage equality. And this #PrideMonth I'm reminded that the fight for LGBTQ+ equality is FAR from over: https://t.co/ScG00thijw\n",
      "-------\n",
      "Massachusetts led the country in marriage equality in 2004. We're going to continue to fight for equality and safety for all. #PersistwithPride #Pride2018 https://t.co/2jvYoBvlrF\n"
     ]
    }
   ],
   "source": [
    "all_tweets = ''\n",
    "for tweet in tweets['text']:\n",
    "    if word_basket_in_text(lgbtq_marriage_equality_act, tweet):\n",
    "        print('-------')\n",
    "        print(tweet)\n",
    "        all_tweets = all_tweets + ' ; ' + tweet"
   ]
  },
  {
   "cell_type": "code",
   "execution_count": 83,
   "metadata": {},
   "outputs": [
    {
     "name": "stdout",
     "output_type": "stream",
     "text": [
      "Counter({'the': 8, 'to': 4, 'a': 4, ';': 3, 'and': 3, 'same-sex': 3, 'that': 2, 'have': 2, 'on': 2, 'kacsmaryk': 2, 'equality': 2, 'denied': 2, 'couples': 2, 'was': 2, 'at': 2, 'this': 2, 'is': 2, '': 1, \"it's\": 1, 'unbelievable': 1, 'during': 1, '#pridemonth,': 1, 'republicans': 1, 'decided': 1, 'vote': 1, 'nomination': 1, 'of': 1, 'matthew': 1, 'for': 1, 'lifetime': 1, 'position': 1, 'federal': 1, 'bench.': 1, 'has': 1, 'filed': 1, 'briefs': 1, 'opposing': 1, 'marriage': 1, 'defending': 1, 'anti-transgender': 1, 'bathroom': 1, 'policies.': 1, \"i'm\": 1, 'voting': 1, 'no.': 1, 'when': 1, 'nielson': 1, 'defended': 1, 'ca': 1, 'prop': 1, '8—which': 1, 'right': 1, 'marry—he': 1, 'sought': 1, 'judge': 1, 'step': 1, 'aside': 1, 'b/c': 1, 'he': 1, 'in': 1, 'relationship.\\n\\ni': 1, 'ag': 1, 'time': 1, 'i': 1, 'called': 1, 'thinly': 1, 'veiled': 1, 'attack': 1, 'based': 1, 'orientation.\\n\\nthe': 1, 'american': 1, 'people': 1, 'deserve': 1, 'better.': 1, 'are': 1, 'being': 1, 'mortgages': 1, 'astonishingly': 1, 'high': 1, 'rates.': 1, 'all': 1, 'more': 1, 'reason': 1, 'congress': 1, 'must': 1, 'pass': 1, 'act': 1, 'ensure': 1, 'sexual': 1, 'orientation': 1, 'protected': 1, 'class': 1, 'under': 1, 'civil': 1, 'rights': 1, 'act.': 1, 'https://t.co/7qwabr70nn': 1})\n"
     ]
    }
   ],
   "source": [
    "counts = Counter(all_tweets.lower().split(' '))\n",
    "print(counts)"
   ]
  },
  {
   "cell_type": "code",
   "execution_count": null,
   "metadata": {},
   "outputs": [],
   "source": []
  }
 ],
 "metadata": {
  "kernelspec": {
   "display_name": "Python 3",
   "language": "python",
   "name": "python3"
  },
  "language_info": {
   "codemirror_mode": {
    "name": "ipython",
    "version": 3
   },
   "file_extension": ".py",
   "mimetype": "text/x-python",
   "name": "python",
   "nbconvert_exporter": "python",
   "pygments_lexer": "ipython3",
   "version": "3.7.0"
  }
 },
 "nbformat": 4,
 "nbformat_minor": 2
}

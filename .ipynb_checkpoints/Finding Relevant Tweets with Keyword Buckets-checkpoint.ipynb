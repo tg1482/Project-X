{
 "cells": [
  {
   "cell_type": "code",
   "execution_count": 1,
   "metadata": {},
   "outputs": [],
   "source": [
    "% matplotlib inline\n",
    "\n",
    "from __future__ import division\n",
    "\n",
    "import numpy as np \n",
    "import pandas as pd \n",
    "import re"
   ]
  },
  {
   "cell_type": "code",
   "execution_count": 2,
   "metadata": {},
   "outputs": [],
   "source": [
    "def word_in_text(word, text):\n",
    "    word = word.lower()\n",
    "    text = text.lower()\n",
    "    match = re.search(word, text)\n",
    "    if match:\n",
    "        return True\n",
    "    return False\n",
    "\n",
    "def word_basket_in_text(word_list, text):\n",
    "    status = True\n",
    "    for word in word_list:\n",
    "        status = status and word_in_text(word, text)\n",
    "    return status\n",
    "\n",
    "def get_tweets(name):\n",
    "    tweet_data = pd.read_csv('Tweets//'+name+'_tweets.csv', encoding = 'utf-8')\n",
    "    return tweet_data.dropna()\n",
    "\n",
    "tweets = get_tweets('ewarren')"
   ]
  },
  {
   "cell_type": "code",
   "execution_count": 3,
   "metadata": {},
   "outputs": [],
   "source": [
    "# extracting URLS\n",
    "tweets['urls'] = tweets.text.apply(lambda x: re.findall('http\\S+', x))\n",
    "tweets['text_clean'] = tweets.text.apply(lambda x: re.sub(u'http\\S+', u'', x)) \n",
    "\n",
    "# extracting @... \n",
    "tweets['mentions'] = tweets.text.apply(lambda x: re.findall(u'@(\\w+)', x))\n",
    "tweets.text_clean = tweets.text_clean.apply(lambda x: re.sub(u'@(\\w+)', u'', x))\n",
    "\n",
    "# extracting hashtags\n",
    "tweets['hashtags'] = tweets.text.apply(lambda x: re.findall(u'#(\\w+)', x))\n",
    "tweets.text_clean = tweets.text_clean.apply(lambda x: re.sub(u'#', u'', x))\n",
    "\n",
    "# Binary for Re-Tweets\n",
    "tweets['retweet'] = tweets.text.apply(lambda x: 1 if len(re.findall(u'RT', x))>0 else 0)\n",
    "tweets.text_clean = tweets.text_clean.apply(lambda x: re.sub(u'RT', u'', x))"
   ]
  },
  {
   "cell_type": "code",
   "execution_count": 4,
   "metadata": {},
   "outputs": [],
   "source": [
    "Healthcare = [u'care','affordable care act', u'medicare', u'obamacare',  u'benefits', u'opioid', u'abortion', u'medicaid', u'single payer', u'medication', u'prescription', u'drugs', u'hospital', u'health', u'care']\n",
    "Terrorism = [u'al', u'terror', u'sanctions', u'drone', u'oil', u'gulf', u'intelligence', u'ISIS', u'military', u'nuclear']\n",
    "Economy = [u'china', u'tariff', u'mexico', u'fed', u'sec', u'interest', u'rate', u'immigration', u'debt', u'unemployment', u'growth', u'inflation', u'trade war', u'dollar', u'gdp', u'g20', u'recession', u'stock', u'market']\n",
    "lgbtq = [u'gay', u'lesbian', u'pride', u'community', u'lgbt', u'same-sex', u'marriage', u'orientation', u'parade', u'stonewall', u'riot', u'civil', u'homosexual', u'queer', u'conversion']"
   ]
  },
  {
   "cell_type": "code",
   "execution_count": 5,
   "metadata": {},
   "outputs": [
    {
     "name": "stdout",
     "output_type": "stream",
     "text": [
      "-------\n",
      "The racial wealth gap tilts the playing field against entrepreneurs of color, holding back our economy. The government helped create that wealth gap, and the government has an obligation to address it. I have a new plan to tackle it head on.\n",
      "-------\n",
      "My #UniversalChildCare plan quadruples the federal investment in child care, and offers high-quality options for every family. We’ll pay for it with my #UltraMillionaireTax on the wealthiest 0.1% of Americans. It’s a win for our kids and our economy. https://t.co/c8X9TfTeXK\n",
      "-------\n",
      "The enormous student debt burden weighing down our economy isn’t the result of laziness or irresponsibility. It’s the result of a government that has consistently put the interests of the wealthy and well-connected over the interests of working families. I'm ready to fight back. https://t.co/kYZPbLsGpC\n",
      "-------\n",
      "The richest tippy-top 0.1% of Americans have nearly as much wealth as the bottom 90%. That’s bad for our economy &amp; our democracy. I talked with @chrislhayes about how my #UltraMillionaireTax would ask the 0.1% to pay their fair share and rebuild the middle class. https://t.co/fKt4W4cShX\n",
      "-------\n",
      "Our economy is rigged against working people – &amp; especially rigged against people of color. The wealthy &amp; well-connected have enormous power in Washington. It’s time to make real, structural change to our economy, our govt &amp; our politics to fix it.\n",
      "-------\n",
      "The ultra-rich have rigged our economy &amp; rigged our tax rules. We need structural change. That’s why I’m proposing something brand-new: An annual wealth tax on the tippy-top 0.1%. We’d get $3 trillion in new revenue to invest in rebuilding the middle-class. Let’s make it happen. https://t.co/B0ImiSTxez\n",
      "-------\n",
      "The rich &amp; powerful run Washington. Here’s one benefit they wrote for themselves: After making a killing from the economy they’ve rigged, they don't pay taxes on that accumulated wealth. It’s a system that’s rigged for the top if I ever saw one.\n"
     ]
    }
   ],
   "source": [
    "for tweet in tweets['text']:\n",
    "    if word_basket_in_text(['economy', 'wealth'], tweet):\n",
    "        print('-------')\n",
    "        print(tweet)"
   ]
  },
  {
   "cell_type": "code",
   "execution_count": null,
   "metadata": {},
   "outputs": [],
   "source": []
  }
 ],
 "metadata": {
  "kernelspec": {
   "display_name": "Python 3",
   "language": "python",
   "name": "python3"
  },
  "language_info": {
   "codemirror_mode": {
    "name": "ipython",
    "version": 3
   },
   "file_extension": ".py",
   "mimetype": "text/x-python",
   "name": "python",
   "nbconvert_exporter": "python",
   "pygments_lexer": "ipython3",
   "version": "3.7.0"
  }
 },
 "nbformat": 4,
 "nbformat_minor": 2
}
